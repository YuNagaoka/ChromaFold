{
 "cells": [
  {
   "cell_type": "markdown",
   "metadata": {},
   "source": [
    "# Process Input scATAC-seq\n"
   ]
  },
  {
   "cell_type": "code",
   "execution_count": null,
   "metadata": {
    "ExecuteTime": {
     "end_time": "2023-06-13T17:39:24.264881Z",
     "start_time": "2023-06-13T17:39:19.010602Z"
    }
   },
   "outputs": [],
   "source": [
    "import random\n",
    "import sys\n",
    "import numpy as np\n",
    "import pysam\n",
    "import pandas as pd\n",
    "import os\n",
    "import itertools\n",
    "import scipy\n",
    "from scipy.sparse import csr_matrix\n",
    "from scipy import sparse\n",
    "import pickle\n"
   ]
  },
  {
   "cell_type": "code",
   "execution_count": null,
   "metadata": {
    "ExecuteTime": {
     "end_time": "2023-06-13T16:35:41.813727Z",
     "start_time": "2023-06-13T16:35:41.812033Z"
    }
   },
   "outputs": [],
   "source": [
    "ct = 'imr90'"
   ]
  },
  {
   "cell_type": "code",
   "execution_count": null,
   "metadata": {
    "ExecuteTime": {
     "end_time": "2023-06-13T16:02:54.343232Z",
     "start_time": "2023-06-13T16:02:54.337576Z"
    }
   },
   "outputs": [],
   "source": [
    "frag_path = './rawdata/scatac/fragments.tsv.gz'\n",
    "valid_barcode = pd.read_csv('./rawdata/scatac/archr_filtered_barcode.csv', index_col = 0)\n",
    "chrom_size = pd.read_csv('../genome/hg38_chrNameLength.txt', \n",
    "                         sep = '\\t', header = None, index_col = 0)\n",
    "\n",
    "valid_chrom = ['chr1', 'chr2', 'chr3', 'chr4', 'chr5','chr6','chr7',\n",
    "               'chr8', 'chr9','chr10','chr11','chr12','chr13','chr14',\n",
    "               'chr15','chr16','chr17','chr18','chr19','chr20',\n",
    "               'chr21','chr22','chrX']\n"
   ]
  },
  {
   "cell_type": "markdown",
   "metadata": {},
   "source": [
    "## Process scATAC at 500bp (for co-accessibility input)"
   ]
  },
  {
   "cell_type": "code",
   "execution_count": null,
   "metadata": {
    "ExecuteTime": {
     "end_time": "2023-06-13T16:03:27.708274Z",
     "start_time": "2023-06-13T16:03:03.926571Z"
    }
   },
   "outputs": [],
   "source": [
    "frag = pd.read_csv(frag_path, sep = '\\t', header=None)\n",
    "dist = frag[2]-frag[1]\n",
    "\n",
    "# Option to filter cell barcodes using cluster assignments or number of fragments\n",
    "# valid_barcode = valid_barcode[valid_barcode['nFrags'] > 1000]\n",
    "valid_barcode = valid_barcode.index\n",
    "# Filter for valid barcodes only\n",
    "frag = frag[frag[3].isin(valid_barcode)]\n"
   ]
  },
  {
   "cell_type": "code",
   "execution_count": null,
   "metadata": {
    "ExecuteTime": {
     "end_time": "2023-06-13T16:16:34.837783Z",
     "start_time": "2023-06-13T16:16:29.621449Z"
    }
   },
   "outputs": [],
   "source": [
    "frag_stacked = pd.concat([frag[[0,1,3,4]],frag[[0,2,3,4]].rename(columns={2:1})], ignore_index=True)\n",
    "frag_stacked[4] = 1 #binarize count\n",
    "frag_stacked[1] = frag_stacked[1]//500 # aggregate counts per 500bp tile\n",
    "\n",
    "barcodes, barcode_id = np.unique(frag_stacked[3], return_inverse=True)\n",
    "frag_stacked[5] = barcode_id\n"
   ]
  },
  {
   "cell_type": "code",
   "execution_count": null,
   "metadata": {
    "ExecuteTime": {
     "end_time": "2023-06-13T16:32:58.156263Z",
     "start_time": "2023-06-13T16:31:27.117318Z"
    },
    "scrolled": true
   },
   "outputs": [],
   "source": [
    "tile_dict = {}\n",
    "for chrom in list(set(frag_stacked[0])):\n",
    "    if chrom in valid_chrom:\n",
    "        frag_grouped = frag_stacked[frag_stacked[0]==chrom][[1,5,4]].groupby([5,1]).sum().reset_index()\n",
    "        frag_grouped = csr_matrix((frag_grouped[4].astype(np.float64), (frag_grouped[5].values, frag_grouped[1].values)), shape=(barcodes.shape[0], chrom_size.loc[chrom].values[0]//500+1))\n",
    "        tile_dict[chrom] = frag_grouped\n",
    "        print(chrom)\n",
    "        "
   ]
  },
  {
   "cell_type": "code",
   "execution_count": null,
   "metadata": {
    "ExecuteTime": {
     "end_time": "2023-06-13T16:36:07.211362Z",
     "start_time": "2023-06-13T16:36:06.611045Z"
    }
   },
   "outputs": [],
   "source": [
    "pickle.dump(tile_dict, open(\"./data/scatac/processed_input/{}_tile_500bp_dict.p\".format(ct), \"wb\"))\n",
    "np.save(\"./data/scatac/processed_input/{}_tile_500bp_barcode.npy\".format(ct),barcodes.astype(str))\n"
   ]
  },
  {
   "cell_type": "markdown",
   "metadata": {},
   "source": [
    "## Pseudo-bulk (for evaluation)"
   ]
  },
  {
   "cell_type": "code",
   "execution_count": null,
   "metadata": {
    "ExecuteTime": {
     "end_time": "2023-06-13T16:36:56.689223Z",
     "start_time": "2023-06-13T16:36:52.711999Z"
    }
   },
   "outputs": [],
   "source": [
    "frag_stacked = pd.concat([frag[[0,1,4]],frag[[0,2,4]].rename(columns={2:1})], ignore_index=True)\n",
    "frag_stacked[4] = 1 #binarize counte\n",
    "frag_stacked[1] = frag_stacked[1]//50 # aggregate counts per 50bp tile\n"
   ]
  },
  {
   "cell_type": "code",
   "execution_count": null,
   "metadata": {
    "ExecuteTime": {
     "end_time": "2023-06-13T16:38:26.317134Z",
     "start_time": "2023-06-13T16:37:12.876855Z"
    }
   },
   "outputs": [],
   "source": [
    "tile_dict = {}\n",
    "for chrom in list(set(frag_stacked[0])):\n",
    "    if chrom in valid_chrom:\n",
    "        frag_grouped = frag_stacked[frag_stacked[0]==chrom][[1,4]].groupby([1]).sum().reset_index()\n",
    "        frag_grouped = pd.DataFrame(frag_grouped[4].values, index = frag_grouped[1].values).reindex(np.arange(0,chrom_size.loc[chrom].values[0]//50+1)).fillna(0).values\n",
    "        tile_dict[chrom] = frag_grouped\n",
    "        "
   ]
  },
  {
   "cell_type": "code",
   "execution_count": null,
   "metadata": {
    "ExecuteTime": {
     "end_time": "2023-06-13T16:38:26.724725Z",
     "start_time": "2023-06-13T16:38:26.318479Z"
    }
   },
   "outputs": [],
   "source": [
    "import pickle\n",
    "pickle.dump(tile_dict, open(\"./data/scatac/processed_input/{}_tile_pbulk_50bp_dict.p\".format(ct), \"wb\"))\n"
   ]
  },
  {
   "cell_type": "markdown",
   "metadata": {},
   "source": [
    "## Process scATAC at 50bp (for training)"
   ]
  },
  {
   "cell_type": "code",
   "execution_count": null,
   "metadata": {
    "ExecuteTime": {
     "end_time": "2023-06-13T16:39:28.837978Z",
     "start_time": "2023-06-13T16:39:27.481969Z"
    }
   },
   "outputs": [],
   "source": [
    "frag_stacked = pd.concat([frag[[0,1,3,4]],frag[[0,2,3,4]].rename(columns={2:1})], ignore_index=True)\n",
    "frag_stacked[4] = 1 #binarize counte\n",
    "frag_stacked[1] = frag_stacked[1]//50 # aggregate counts per 50bp tile\n",
    "\n",
    "barcodes, barcode_id = np.unique(frag_stacked[3], return_inverse=True)\n",
    "frag_stacked[5] = barcode_id\n"
   ]
  },
  {
   "cell_type": "code",
   "execution_count": null,
   "metadata": {
    "ExecuteTime": {
     "end_time": "2023-06-13T16:44:24.867469Z",
     "start_time": "2023-06-13T16:42:47.341348Z"
    },
    "code_folding": []
   },
   "outputs": [],
   "source": [
    "tile_dict = {}\n",
    "for chrom in valid_chrom:\n",
    "    frag_grouped = frag_stacked[frag_stacked[0]==chrom][[1,5,4]].groupby([5,1]).sum().reset_index()\n",
    "    frag_grouped = csr_matrix((frag_grouped[4].astype(np.float64), (frag_grouped[5], frag_grouped[1])), shape=(barcodes.shape[0], chrom_size.loc[chrom].values[0]//tile_size+1))\n",
    "    tile_dict[chrom] = frag_grouped\n"
   ]
  },
  {
   "cell_type": "code",
   "execution_count": null,
   "metadata": {
    "ExecuteTime": {
     "end_time": "2022-12-28T02:35:25.905455Z",
     "start_time": "2022-12-28T02:35:24.455575Z"
    }
   },
   "outputs": [],
   "source": [
    "import pickle\n",
    "pickle.dump(tile_dict, open(\"./data/scatac/processed_input/{}_tile_50bp_dict.p\".format(ct), \"wb\"))  # save it into a file named save.p\n",
    "np.save(\"./data/scatac/processed_input/{}_tile_50bp_barcode.npy\".format(ct),barcodes.astype(str))\n"
   ]
  },
  {
   "cell_type": "code",
   "execution_count": null,
   "metadata": {},
   "outputs": [],
   "source": []
  },
  {
   "cell_type": "markdown",
   "metadata": {},
   "source": [
    "# Compute metacells"
   ]
  },
  {
   "cell_type": "code",
   "execution_count": null,
   "metadata": {
    "ExecuteTime": {
     "end_time": "2023-06-13T18:12:05.711252Z",
     "start_time": "2023-06-13T18:12:05.709166Z"
    }
   },
   "outputs": [],
   "source": [
    "import sys\n",
    "from scipy.sparse import coo_matrix, csr_matrix, find\n",
    "from sklearn.neighbors import NearestNeighbors"
   ]
  },
  {
   "cell_type": "code",
   "execution_count": null,
   "metadata": {
    "ExecuteTime": {
     "end_time": "2023-06-13T18:12:06.361742Z",
     "start_time": "2023-06-13T18:12:06.289608Z"
    },
    "code_folding": []
   },
   "outputs": [],
   "source": [
    "lsi = pd.read_csv('./data/scatac/archr_filtered_lsi.csv', index_col = 0)\n",
    "lsi.index = [x.split('#')[1] for x in lsi.index]\n"
   ]
  },
  {
   "cell_type": "code",
   "execution_count": null,
   "metadata": {
    "ExecuteTime": {
     "end_time": "2023-06-13T18:12:10.385853Z",
     "start_time": "2023-06-13T18:12:10.381984Z"
    },
    "code_folding": [
     5,
     26,
     38
    ]
   },
   "outputs": [],
   "source": [
    "def get_max_overlap(y,x):\n",
    "    return np.max(x.dot(y))\n",
    "def generate_cicero_metacell(nbrs, max_overlap, sampled_id = [0]):\n",
    "    order = np.arange(nbrs.shape[0])\n",
    "    np.random.seed(10)\n",
    "    np.random.shuffle(order)\n",
    "\n",
    "    selected_idx = [False]*nbrs.shape[0]\n",
    "    for i in sampled_id:\n",
    "        selected_idx[i] = True\n",
    "    \n",
    "    for idx in order:\n",
    "        selected_cells = nbrs[selected_idx]\n",
    "        candidate = nbrs[idx]\n",
    "        overlap = get_max_overlap(candidate,selected_cells)\n",
    "        if overlap < max_overlap:\n",
    "            selected_idx[idx] = True\n",
    "            \n",
    "    return selected_idx\n",
    "    "
   ]
  },
  {
   "cell_type": "code",
   "execution_count": null,
   "metadata": {
    "ExecuteTime": {
     "end_time": "2023-06-13T18:16:48.034385Z",
     "start_time": "2023-06-13T18:16:41.599804Z"
    }
   },
   "outputs": [],
   "source": [
    "from sklearn.neighbors import NearestNeighbors\n",
    "n_neighbors = 100\n",
    "max_overlap = 33\n",
    "\n",
    "nbrs = NearestNeighbors(n_neighbors=n_neighbors, metric='euclidean').fit(lsi.values)\n",
    "nbrs = nbrs.kneighbors_graph(lsi.values).toarray()\n",
    "selected_idx = generate_cicero_metacell(nbrs, max_overlap = max_overlap)\n"
   ]
  },
  {
   "cell_type": "code",
   "execution_count": null,
   "metadata": {
    "ExecuteTime": {
     "end_time": "2023-06-13T18:16:48.039948Z",
     "start_time": "2023-06-13T18:16:48.036402Z"
    }
   },
   "outputs": [],
   "source": [
    "metacell_assignment = nbrs[selected_idx,:]\n"
   ]
  },
  {
   "cell_type": "code",
   "execution_count": null,
   "metadata": {},
   "outputs": [],
   "source": []
  }
 ],
 "metadata": {
  "kernelspec": {
   "display_name": "Python [conda env:anaconda2-py36-sc] *",
   "language": "python",
   "name": "conda-env-anaconda2-py36-sc-py"
  },
  "language_info": {
   "codemirror_mode": {
    "name": "ipython",
    "version": 3
   },
   "file_extension": ".py",
   "mimetype": "text/x-python",
   "name": "python",
   "nbconvert_exporter": "python",
   "pygments_lexer": "ipython3",
   "version": "3.6.5"
  },
  "toc": {
   "base_numbering": 1,
   "nav_menu": {},
   "number_sections": true,
   "sideBar": true,
   "skip_h1_title": false,
   "title_cell": "Table of Contents",
   "title_sidebar": "Contents",
   "toc_cell": false,
   "toc_position": {},
   "toc_section_display": true,
   "toc_window_display": false
  }
 },
 "nbformat": 4,
 "nbformat_minor": 2
}
