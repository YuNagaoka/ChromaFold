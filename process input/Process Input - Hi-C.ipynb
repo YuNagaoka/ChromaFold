{
 "cells": [
  {
   "cell_type": "markdown",
   "metadata": {},
   "source": [
    "Scripit to preprocess Hi-C/HiChIP data"
   ]
  },
  {
   "cell_type": "code",
   "execution_count": null,
   "metadata": {
    "ExecuteTime": {
     "end_time": "2023-06-13T18:02:14.604155Z",
     "start_time": "2023-06-13T18:02:14.602054Z"
    }
   },
   "outputs": [],
   "source": [
    "import pandas as pd\n",
    "import os\n",
    "import pickle\n",
    "import numpy as np\n",
    "import matplotlib.pyplot as plt\n",
    "from scipy.sparse import csr_matrix"
   ]
  },
  {
   "cell_type": "markdown",
   "metadata": {},
   "source": [
    "- 1. Generate normalized .hic file\n",
    "- 2. Extract hic matrices:\n",
    "```\n",
    "for i in {1..21}\n",
    "do\n",
    "    java -jar juicer_tools_1.22.01.jar dump <normalization> NONE imr90.hic $i $i BP 10000 ./zvalue/imr90_chr\"$i\".txt\n",
    "done\n",
    "```\n",
    "- 3. Run this notebook"
   ]
  },
  {
   "cell_type": "markdown",
   "metadata": {},
   "source": [
    "### Process from individual chrom text files"
   ]
  },
  {
   "cell_type": "code",
   "execution_count": null,
   "metadata": {
    "ExecuteTime": {
     "end_time": "2023-06-13T18:02:21.139208Z",
     "start_time": "2023-06-13T18:02:21.135779Z"
    }
   },
   "outputs": [],
   "source": [
    "\n",
    "def load_hic(path,hic_resolution):\n",
    "    hic_dict = {}\n",
    "    for file in os.listdir(path):\n",
    "        if file.endswith('txt'):\n",
    "            print(file)\n",
    "            chrom = file.split('_')[0]\n",
    "            print(chrom)\n",
    "            hic = pd.read_table(path+file, header = None)\n",
    "            start = hic[[0,1]].values.min()\n",
    "            print(start)\n",
    "            end = hic[[0,1]].values.max()+hic_resolution\n",
    "            hic = hic.pivot(0,1,2).fillna(0)\n",
    "            hic = hic.reindex(columns=np.arange(0,end, hic_resolution).astype(int), index=np.arange(0,end, hic_resolution).astype(int),\n",
    "                      fill_value = 0)\n",
    "            hic_dict[chrom] = csr_matrix(hic)\n",
    "\n",
    "    return hic_dict"
   ]
  },
  {
   "cell_type": "code",
   "execution_count": null,
   "metadata": {
    "ExecuteTime": {
     "end_time": "2022-11-22T03:36:00.588014Z",
     "start_time": "2022-11-22T03:32:10.565929Z"
    },
    "scrolled": true
   },
   "outputs": [],
   "source": [
    "hic_resolution = 1e4\n",
    "\n",
    "path = './zvalue/'\n",
    "hic_dict = load_hic(path,hic_resolution=hic_resolution)\n",
    "pickle.dump(hic_dict, open(\"./zvalue/hic_zscore_dict.p\", \"wb\"), protocol=4)  # save it into a file named save.p\n"
   ]
  },
  {
   "cell_type": "code",
   "execution_count": null,
   "metadata": {
    "ExecuteTime": {
     "end_time": "2022-11-22T03:39:36.255431Z",
     "start_time": "2022-11-22T03:36:00.590357Z"
    }
   },
   "outputs": [],
   "source": [
    "hic_resolution = 1e4\n",
    "\n",
    "path = './qvalue/'\n",
    "hic_dict = load_hic(path,hic_resolution=hic_resolution)\n",
    "pickle.dump(hic_dict, open(\"./qvalue/hic_qvalue_dict.p\", \"wb\"), protocol=4)  # save it into a file named save.p\n"
   ]
  },
  {
   "cell_type": "code",
   "execution_count": null,
   "metadata": {},
   "outputs": [],
   "source": []
  }
 ],
 "metadata": {
  "kernelspec": {
   "display_name": "Python [conda env:anaconda2-py36-sc] *",
   "language": "python",
   "name": "conda-env-anaconda2-py36-sc-py"
  },
  "language_info": {
   "codemirror_mode": {
    "name": "ipython",
    "version": 3
   },
   "file_extension": ".py",
   "mimetype": "text/x-python",
   "name": "python",
   "nbconvert_exporter": "python",
   "pygments_lexer": "ipython3",
   "version": "3.6.5"
  },
  "toc": {
   "base_numbering": 1,
   "nav_menu": {},
   "number_sections": true,
   "sideBar": true,
   "skip_h1_title": false,
   "title_cell": "Table of Contents",
   "title_sidebar": "Contents",
   "toc_cell": false,
   "toc_position": {},
   "toc_section_display": true,
   "toc_window_display": false
  }
 },
 "nbformat": 4,
 "nbformat_minor": 2
}
